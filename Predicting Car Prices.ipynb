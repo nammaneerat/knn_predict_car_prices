{
 "cells": [
  {
   "cell_type": "markdown",
   "metadata": {
    "collapsed": true
   },
   "source": [
    "# Predicting Car Prices Using K-Nearest Neighbors Algorithm"
   ]
  },
  {
   "cell_type": "markdown",
   "metadata": {},
   "source": [
    "This project is a part of the guided project from Dataquest. I also develop and do further data analysis on my own using different techniques to split a dataset into training and test sets, and applying k-nearest neighbors algorithm with different k values to predict the car prices. The dataset used in this project is from https://archive.ics.uci.edu/ml/datasets/automobile. \n",
    "\n",
    "The outlines of this notebook presentation is as follows:\n",
    "1. Data Exploration\n",
    "2. Data Cleaning\n",
    "3. Splitting Data Method 1: shuffle the dataset before splitting using numpy.random.permutation\n",
    "    3.1 Univariate Model: using one feature in our model.\n",
    "    3.2 Multivariate Model: using multiple features in each model and compare the results by calculating the root-mean-squre error (RMSE).\n",
    "    3.3 Hyperparameter Tuning: varying k values in k-nearest neighbors and compare the results using the RMSEs of individual models.\n",
    "4. Splitting Data Method 2: K-Fold Validation\n",
    "    - comparing the results from this part to Method 1's solutions where we split the shuffled dataset into training and test sets."
   ]
  },
  {
   "cell_type": "markdown",
   "metadata": {},
   "source": [
    "## Data Exploration"
   ]
  },
  {
   "cell_type": "code",
   "execution_count": 314,
   "metadata": {},
   "outputs": [],
   "source": [
    "import pandas as pd\n",
    "import numpy as np"
   ]
  },
  {
   "cell_type": "code",
   "execution_count": 315,
   "metadata": {},
   "outputs": [],
   "source": [
    "# import the data and add column names\n",
    "columns = ['symboling', 'normalized-losses', 'make', 'fuel-type', 'aspiration', 'num-of-doors', 'body-style', \n",
    "           'drive-wheels', 'engine-location', 'wheel-base', 'length', 'width', 'height', 'curb-weight', 'engine-type', \n",
    "           'num-of-cylinders', 'engine-size', 'fuel-system', 'bore', 'stroke', 'compression-rate', 'horsepower', \n",
    "           'peak-rpm', 'city-mpg', 'highway-mpg', 'price']\n",
    "cars = pd.read_csv(\"imports-85.data\", names=columns)"
   ]
  },
  {
   "cell_type": "code",
   "execution_count": 316,
   "metadata": {},
   "outputs": [
    {
     "data": {
      "text/html": [
       "<div>\n",
       "<style scoped>\n",
       "    .dataframe tbody tr th:only-of-type {\n",
       "        vertical-align: middle;\n",
       "    }\n",
       "\n",
       "    .dataframe tbody tr th {\n",
       "        vertical-align: top;\n",
       "    }\n",
       "\n",
       "    .dataframe thead th {\n",
       "        text-align: right;\n",
       "    }\n",
       "</style>\n",
       "<table border=\"1\" class=\"dataframe\">\n",
       "  <thead>\n",
       "    <tr style=\"text-align: right;\">\n",
       "      <th></th>\n",
       "      <th>symboling</th>\n",
       "      <th>normalized-losses</th>\n",
       "      <th>make</th>\n",
       "      <th>fuel-type</th>\n",
       "      <th>aspiration</th>\n",
       "      <th>num-of-doors</th>\n",
       "      <th>body-style</th>\n",
       "      <th>drive-wheels</th>\n",
       "      <th>engine-location</th>\n",
       "      <th>wheel-base</th>\n",
       "      <th>length</th>\n",
       "      <th>width</th>\n",
       "      <th>height</th>\n",
       "      <th>curb-weight</th>\n",
       "      <th>engine-type</th>\n",
       "      <th>num-of-cylinders</th>\n",
       "      <th>engine-size</th>\n",
       "      <th>fuel-system</th>\n",
       "      <th>bore</th>\n",
       "      <th>stroke</th>\n",
       "      <th>compression-rate</th>\n",
       "      <th>horsepower</th>\n",
       "      <th>peak-rpm</th>\n",
       "      <th>city-mpg</th>\n",
       "      <th>highway-mpg</th>\n",
       "      <th>price</th>\n",
       "    </tr>\n",
       "  </thead>\n",
       "  <tbody>\n",
       "    <tr>\n",
       "      <th>0</th>\n",
       "      <td>3</td>\n",
       "      <td>?</td>\n",
       "      <td>alfa-romero</td>\n",
       "      <td>gas</td>\n",
       "      <td>std</td>\n",
       "      <td>two</td>\n",
       "      <td>convertible</td>\n",
       "      <td>rwd</td>\n",
       "      <td>front</td>\n",
       "      <td>88.6</td>\n",
       "      <td>168.8</td>\n",
       "      <td>64.1</td>\n",
       "      <td>48.8</td>\n",
       "      <td>2548</td>\n",
       "      <td>dohc</td>\n",
       "      <td>four</td>\n",
       "      <td>130</td>\n",
       "      <td>mpfi</td>\n",
       "      <td>3.47</td>\n",
       "      <td>2.68</td>\n",
       "      <td>9.0</td>\n",
       "      <td>111</td>\n",
       "      <td>5000</td>\n",
       "      <td>21</td>\n",
       "      <td>27</td>\n",
       "      <td>13495</td>\n",
       "    </tr>\n",
       "    <tr>\n",
       "      <th>1</th>\n",
       "      <td>3</td>\n",
       "      <td>?</td>\n",
       "      <td>alfa-romero</td>\n",
       "      <td>gas</td>\n",
       "      <td>std</td>\n",
       "      <td>two</td>\n",
       "      <td>convertible</td>\n",
       "      <td>rwd</td>\n",
       "      <td>front</td>\n",
       "      <td>88.6</td>\n",
       "      <td>168.8</td>\n",
       "      <td>64.1</td>\n",
       "      <td>48.8</td>\n",
       "      <td>2548</td>\n",
       "      <td>dohc</td>\n",
       "      <td>four</td>\n",
       "      <td>130</td>\n",
       "      <td>mpfi</td>\n",
       "      <td>3.47</td>\n",
       "      <td>2.68</td>\n",
       "      <td>9.0</td>\n",
       "      <td>111</td>\n",
       "      <td>5000</td>\n",
       "      <td>21</td>\n",
       "      <td>27</td>\n",
       "      <td>16500</td>\n",
       "    </tr>\n",
       "    <tr>\n",
       "      <th>2</th>\n",
       "      <td>1</td>\n",
       "      <td>?</td>\n",
       "      <td>alfa-romero</td>\n",
       "      <td>gas</td>\n",
       "      <td>std</td>\n",
       "      <td>two</td>\n",
       "      <td>hatchback</td>\n",
       "      <td>rwd</td>\n",
       "      <td>front</td>\n",
       "      <td>94.5</td>\n",
       "      <td>171.2</td>\n",
       "      <td>65.5</td>\n",
       "      <td>52.4</td>\n",
       "      <td>2823</td>\n",
       "      <td>ohcv</td>\n",
       "      <td>six</td>\n",
       "      <td>152</td>\n",
       "      <td>mpfi</td>\n",
       "      <td>2.68</td>\n",
       "      <td>3.47</td>\n",
       "      <td>9.0</td>\n",
       "      <td>154</td>\n",
       "      <td>5000</td>\n",
       "      <td>19</td>\n",
       "      <td>26</td>\n",
       "      <td>16500</td>\n",
       "    </tr>\n",
       "    <tr>\n",
       "      <th>3</th>\n",
       "      <td>2</td>\n",
       "      <td>164</td>\n",
       "      <td>audi</td>\n",
       "      <td>gas</td>\n",
       "      <td>std</td>\n",
       "      <td>four</td>\n",
       "      <td>sedan</td>\n",
       "      <td>fwd</td>\n",
       "      <td>front</td>\n",
       "      <td>99.8</td>\n",
       "      <td>176.6</td>\n",
       "      <td>66.2</td>\n",
       "      <td>54.3</td>\n",
       "      <td>2337</td>\n",
       "      <td>ohc</td>\n",
       "      <td>four</td>\n",
       "      <td>109</td>\n",
       "      <td>mpfi</td>\n",
       "      <td>3.19</td>\n",
       "      <td>3.40</td>\n",
       "      <td>10.0</td>\n",
       "      <td>102</td>\n",
       "      <td>5500</td>\n",
       "      <td>24</td>\n",
       "      <td>30</td>\n",
       "      <td>13950</td>\n",
       "    </tr>\n",
       "    <tr>\n",
       "      <th>4</th>\n",
       "      <td>2</td>\n",
       "      <td>164</td>\n",
       "      <td>audi</td>\n",
       "      <td>gas</td>\n",
       "      <td>std</td>\n",
       "      <td>four</td>\n",
       "      <td>sedan</td>\n",
       "      <td>4wd</td>\n",
       "      <td>front</td>\n",
       "      <td>99.4</td>\n",
       "      <td>176.6</td>\n",
       "      <td>66.4</td>\n",
       "      <td>54.3</td>\n",
       "      <td>2824</td>\n",
       "      <td>ohc</td>\n",
       "      <td>five</td>\n",
       "      <td>136</td>\n",
       "      <td>mpfi</td>\n",
       "      <td>3.19</td>\n",
       "      <td>3.40</td>\n",
       "      <td>8.0</td>\n",
       "      <td>115</td>\n",
       "      <td>5500</td>\n",
       "      <td>18</td>\n",
       "      <td>22</td>\n",
       "      <td>17450</td>\n",
       "    </tr>\n",
       "  </tbody>\n",
       "</table>\n",
       "</div>"
      ],
      "text/plain": [
       "   symboling normalized-losses         make fuel-type aspiration num-of-doors  \\\n",
       "0          3                 ?  alfa-romero       gas        std          two   \n",
       "1          3                 ?  alfa-romero       gas        std          two   \n",
       "2          1                 ?  alfa-romero       gas        std          two   \n",
       "3          2               164         audi       gas        std         four   \n",
       "4          2               164         audi       gas        std         four   \n",
       "\n",
       "    body-style drive-wheels engine-location  wheel-base  length  width  \\\n",
       "0  convertible          rwd           front        88.6   168.8   64.1   \n",
       "1  convertible          rwd           front        88.6   168.8   64.1   \n",
       "2    hatchback          rwd           front        94.5   171.2   65.5   \n",
       "3        sedan          fwd           front        99.8   176.6   66.2   \n",
       "4        sedan          4wd           front        99.4   176.6   66.4   \n",
       "\n",
       "   height  curb-weight engine-type num-of-cylinders  engine-size fuel-system  \\\n",
       "0    48.8         2548        dohc             four          130        mpfi   \n",
       "1    48.8         2548        dohc             four          130        mpfi   \n",
       "2    52.4         2823        ohcv              six          152        mpfi   \n",
       "3    54.3         2337         ohc             four          109        mpfi   \n",
       "4    54.3         2824         ohc             five          136        mpfi   \n",
       "\n",
       "   bore stroke  compression-rate horsepower peak-rpm  city-mpg  highway-mpg  \\\n",
       "0  3.47   2.68               9.0        111     5000        21           27   \n",
       "1  3.47   2.68               9.0        111     5000        21           27   \n",
       "2  2.68   3.47               9.0        154     5000        19           26   \n",
       "3  3.19   3.40              10.0        102     5500        24           30   \n",
       "4  3.19   3.40               8.0        115     5500        18           22   \n",
       "\n",
       "   price  \n",
       "0  13495  \n",
       "1  16500  \n",
       "2  16500  \n",
       "3  13950  \n",
       "4  17450  "
      ]
     },
     "execution_count": 316,
     "metadata": {},
     "output_type": "execute_result"
    }
   ],
   "source": [
    "cars.head()"
   ]
  },
  {
   "cell_type": "code",
   "execution_count": 317,
   "metadata": {},
   "outputs": [
    {
     "name": "stdout",
     "output_type": "stream",
     "text": [
      "<class 'pandas.core.frame.DataFrame'>\n",
      "RangeIndex: 205 entries, 0 to 204\n",
      "Data columns (total 26 columns):\n",
      " #   Column             Non-Null Count  Dtype  \n",
      "---  ------             --------------  -----  \n",
      " 0   symboling          205 non-null    int64  \n",
      " 1   normalized-losses  205 non-null    object \n",
      " 2   make               205 non-null    object \n",
      " 3   fuel-type          205 non-null    object \n",
      " 4   aspiration         205 non-null    object \n",
      " 5   num-of-doors       205 non-null    object \n",
      " 6   body-style         205 non-null    object \n",
      " 7   drive-wheels       205 non-null    object \n",
      " 8   engine-location    205 non-null    object \n",
      " 9   wheel-base         205 non-null    float64\n",
      " 10  length             205 non-null    float64\n",
      " 11  width              205 non-null    float64\n",
      " 12  height             205 non-null    float64\n",
      " 13  curb-weight        205 non-null    int64  \n",
      " 14  engine-type        205 non-null    object \n",
      " 15  num-of-cylinders   205 non-null    object \n",
      " 16  engine-size        205 non-null    int64  \n",
      " 17  fuel-system        205 non-null    object \n",
      " 18  bore               205 non-null    object \n",
      " 19  stroke             205 non-null    object \n",
      " 20  compression-rate   205 non-null    float64\n",
      " 21  horsepower         205 non-null    object \n",
      " 22  peak-rpm           205 non-null    object \n",
      " 23  city-mpg           205 non-null    int64  \n",
      " 24  highway-mpg        205 non-null    int64  \n",
      " 25  price              205 non-null    object \n",
      "dtypes: float64(5), int64(5), object(16)\n",
      "memory usage: 41.8+ KB\n"
     ]
    }
   ],
   "source": [
    "cars.info()"
   ]
  },
  {
   "cell_type": "markdown",
   "metadata": {},
   "source": [
    "#### Observations:\n",
    "- There is one column containing null value, which is normalized-losses. The symbol of null is \"?\".\n",
    "- Numerical columns are symboling, wheel-base, length, width, height, curb-weight, engine-size, compression-rate, city-mpg and highway-mpg.\n",
    "- Note that normalized-losses, bore, stroke, hoursepower, peak-rmp and price columns are not numerical types, and we have to transform these columns to float for further analysis.\n",
    "- Or you can check for the continuous data columns from https://archive.ics.uci.edu/ml/datasets/automobile .\n",
    "- What can be our prediction model features?\n",
    "    - All the continuous data columns, which are normalized-losses, wheel-base, length, width, height, curb-weight, engine-size, bore, stroke, compression-rate, horsepower, peak-rp, city-mpg and highway-mpg."
   ]
  },
  {
   "cell_type": "markdown",
   "metadata": {},
   "source": [
    "## Data Cleaning"
   ]
  },
  {
   "cell_type": "code",
   "execution_count": 318,
   "metadata": {},
   "outputs": [
    {
     "data": {
      "text/html": [
       "<div>\n",
       "<style scoped>\n",
       "    .dataframe tbody tr th:only-of-type {\n",
       "        vertical-align: middle;\n",
       "    }\n",
       "\n",
       "    .dataframe tbody tr th {\n",
       "        vertical-align: top;\n",
       "    }\n",
       "\n",
       "    .dataframe thead th {\n",
       "        text-align: right;\n",
       "    }\n",
       "</style>\n",
       "<table border=\"1\" class=\"dataframe\">\n",
       "  <thead>\n",
       "    <tr style=\"text-align: right;\">\n",
       "      <th></th>\n",
       "      <th>normalized-losses</th>\n",
       "      <th>wheel-base</th>\n",
       "      <th>length</th>\n",
       "      <th>width</th>\n",
       "      <th>height</th>\n",
       "      <th>curb-weight</th>\n",
       "      <th>engine-size</th>\n",
       "      <th>bore</th>\n",
       "      <th>stroke</th>\n",
       "      <th>compression-rate</th>\n",
       "      <th>horsepower</th>\n",
       "      <th>peak-rpm</th>\n",
       "      <th>city-mpg</th>\n",
       "      <th>highway-mpg</th>\n",
       "      <th>price</th>\n",
       "    </tr>\n",
       "  </thead>\n",
       "  <tbody>\n",
       "    <tr>\n",
       "      <th>0</th>\n",
       "      <td>?</td>\n",
       "      <td>88.6</td>\n",
       "      <td>168.8</td>\n",
       "      <td>64.1</td>\n",
       "      <td>48.8</td>\n",
       "      <td>2548</td>\n",
       "      <td>130</td>\n",
       "      <td>3.47</td>\n",
       "      <td>2.68</td>\n",
       "      <td>9.0</td>\n",
       "      <td>111</td>\n",
       "      <td>5000</td>\n",
       "      <td>21</td>\n",
       "      <td>27</td>\n",
       "      <td>13495</td>\n",
       "    </tr>\n",
       "    <tr>\n",
       "      <th>1</th>\n",
       "      <td>?</td>\n",
       "      <td>88.6</td>\n",
       "      <td>168.8</td>\n",
       "      <td>64.1</td>\n",
       "      <td>48.8</td>\n",
       "      <td>2548</td>\n",
       "      <td>130</td>\n",
       "      <td>3.47</td>\n",
       "      <td>2.68</td>\n",
       "      <td>9.0</td>\n",
       "      <td>111</td>\n",
       "      <td>5000</td>\n",
       "      <td>21</td>\n",
       "      <td>27</td>\n",
       "      <td>16500</td>\n",
       "    </tr>\n",
       "    <tr>\n",
       "      <th>2</th>\n",
       "      <td>?</td>\n",
       "      <td>94.5</td>\n",
       "      <td>171.2</td>\n",
       "      <td>65.5</td>\n",
       "      <td>52.4</td>\n",
       "      <td>2823</td>\n",
       "      <td>152</td>\n",
       "      <td>2.68</td>\n",
       "      <td>3.47</td>\n",
       "      <td>9.0</td>\n",
       "      <td>154</td>\n",
       "      <td>5000</td>\n",
       "      <td>19</td>\n",
       "      <td>26</td>\n",
       "      <td>16500</td>\n",
       "    </tr>\n",
       "    <tr>\n",
       "      <th>3</th>\n",
       "      <td>164</td>\n",
       "      <td>99.8</td>\n",
       "      <td>176.6</td>\n",
       "      <td>66.2</td>\n",
       "      <td>54.3</td>\n",
       "      <td>2337</td>\n",
       "      <td>109</td>\n",
       "      <td>3.19</td>\n",
       "      <td>3.40</td>\n",
       "      <td>10.0</td>\n",
       "      <td>102</td>\n",
       "      <td>5500</td>\n",
       "      <td>24</td>\n",
       "      <td>30</td>\n",
       "      <td>13950</td>\n",
       "    </tr>\n",
       "    <tr>\n",
       "      <th>4</th>\n",
       "      <td>164</td>\n",
       "      <td>99.4</td>\n",
       "      <td>176.6</td>\n",
       "      <td>66.4</td>\n",
       "      <td>54.3</td>\n",
       "      <td>2824</td>\n",
       "      <td>136</td>\n",
       "      <td>3.19</td>\n",
       "      <td>3.40</td>\n",
       "      <td>8.0</td>\n",
       "      <td>115</td>\n",
       "      <td>5500</td>\n",
       "      <td>18</td>\n",
       "      <td>22</td>\n",
       "      <td>17450</td>\n",
       "    </tr>\n",
       "  </tbody>\n",
       "</table>\n",
       "</div>"
      ],
      "text/plain": [
       "  normalized-losses  wheel-base  length  width  height  curb-weight  \\\n",
       "0                 ?        88.6   168.8   64.1    48.8         2548   \n",
       "1                 ?        88.6   168.8   64.1    48.8         2548   \n",
       "2                 ?        94.5   171.2   65.5    52.4         2823   \n",
       "3               164        99.8   176.6   66.2    54.3         2337   \n",
       "4               164        99.4   176.6   66.4    54.3         2824   \n",
       "\n",
       "   engine-size  bore stroke  compression-rate horsepower peak-rpm  city-mpg  \\\n",
       "0          130  3.47   2.68               9.0        111     5000        21   \n",
       "1          130  3.47   2.68               9.0        111     5000        21   \n",
       "2          152  2.68   3.47               9.0        154     5000        19   \n",
       "3          109  3.19   3.40              10.0        102     5500        24   \n",
       "4          136  3.19   3.40               8.0        115     5500        18   \n",
       "\n",
       "   highway-mpg  price  \n",
       "0           27  13495  \n",
       "1           27  16500  \n",
       "2           26  16500  \n",
       "3           30  13950  \n",
       "4           22  17450  "
      ]
     },
     "execution_count": 318,
     "metadata": {},
     "output_type": "execute_result"
    }
   ],
   "source": [
    "# we only select the columns with continous values and recreate the dataframe\n",
    "selected_columns = ['normalized-losses', 'wheel-base', 'length', 'width', 'height', 'curb-weight', 'engine-size', \n",
    "                    'bore', 'stroke', 'compression-rate', 'horsepower', 'peak-rpm', 'city-mpg', 'highway-mpg', 'price']\n",
    "cars_df = cars[selected_columns]\n",
    "cars_df.head()\n"
   ]
  },
  {
   "cell_type": "code",
   "execution_count": 319,
   "metadata": {},
   "outputs": [
    {
     "data": {
      "text/html": [
       "<div>\n",
       "<style scoped>\n",
       "    .dataframe tbody tr th:only-of-type {\n",
       "        vertical-align: middle;\n",
       "    }\n",
       "\n",
       "    .dataframe tbody tr th {\n",
       "        vertical-align: top;\n",
       "    }\n",
       "\n",
       "    .dataframe thead th {\n",
       "        text-align: right;\n",
       "    }\n",
       "</style>\n",
       "<table border=\"1\" class=\"dataframe\">\n",
       "  <thead>\n",
       "    <tr style=\"text-align: right;\">\n",
       "      <th></th>\n",
       "      <th>normalized-losses</th>\n",
       "      <th>wheel-base</th>\n",
       "      <th>length</th>\n",
       "      <th>width</th>\n",
       "      <th>height</th>\n",
       "      <th>curb-weight</th>\n",
       "      <th>engine-size</th>\n",
       "      <th>bore</th>\n",
       "      <th>stroke</th>\n",
       "      <th>compression-rate</th>\n",
       "      <th>horsepower</th>\n",
       "      <th>peak-rpm</th>\n",
       "      <th>city-mpg</th>\n",
       "      <th>highway-mpg</th>\n",
       "      <th>price</th>\n",
       "    </tr>\n",
       "  </thead>\n",
       "  <tbody>\n",
       "    <tr>\n",
       "      <th>0</th>\n",
       "      <td>NaN</td>\n",
       "      <td>88.6</td>\n",
       "      <td>168.8</td>\n",
       "      <td>64.1</td>\n",
       "      <td>48.8</td>\n",
       "      <td>2548</td>\n",
       "      <td>130</td>\n",
       "      <td>3.47</td>\n",
       "      <td>2.68</td>\n",
       "      <td>9.0</td>\n",
       "      <td>111</td>\n",
       "      <td>5000</td>\n",
       "      <td>21</td>\n",
       "      <td>27</td>\n",
       "      <td>13495</td>\n",
       "    </tr>\n",
       "    <tr>\n",
       "      <th>1</th>\n",
       "      <td>NaN</td>\n",
       "      <td>88.6</td>\n",
       "      <td>168.8</td>\n",
       "      <td>64.1</td>\n",
       "      <td>48.8</td>\n",
       "      <td>2548</td>\n",
       "      <td>130</td>\n",
       "      <td>3.47</td>\n",
       "      <td>2.68</td>\n",
       "      <td>9.0</td>\n",
       "      <td>111</td>\n",
       "      <td>5000</td>\n",
       "      <td>21</td>\n",
       "      <td>27</td>\n",
       "      <td>16500</td>\n",
       "    </tr>\n",
       "    <tr>\n",
       "      <th>2</th>\n",
       "      <td>NaN</td>\n",
       "      <td>94.5</td>\n",
       "      <td>171.2</td>\n",
       "      <td>65.5</td>\n",
       "      <td>52.4</td>\n",
       "      <td>2823</td>\n",
       "      <td>152</td>\n",
       "      <td>2.68</td>\n",
       "      <td>3.47</td>\n",
       "      <td>9.0</td>\n",
       "      <td>154</td>\n",
       "      <td>5000</td>\n",
       "      <td>19</td>\n",
       "      <td>26</td>\n",
       "      <td>16500</td>\n",
       "    </tr>\n",
       "    <tr>\n",
       "      <th>3</th>\n",
       "      <td>164</td>\n",
       "      <td>99.8</td>\n",
       "      <td>176.6</td>\n",
       "      <td>66.2</td>\n",
       "      <td>54.3</td>\n",
       "      <td>2337</td>\n",
       "      <td>109</td>\n",
       "      <td>3.19</td>\n",
       "      <td>3.40</td>\n",
       "      <td>10.0</td>\n",
       "      <td>102</td>\n",
       "      <td>5500</td>\n",
       "      <td>24</td>\n",
       "      <td>30</td>\n",
       "      <td>13950</td>\n",
       "    </tr>\n",
       "    <tr>\n",
       "      <th>4</th>\n",
       "      <td>164</td>\n",
       "      <td>99.4</td>\n",
       "      <td>176.6</td>\n",
       "      <td>66.4</td>\n",
       "      <td>54.3</td>\n",
       "      <td>2824</td>\n",
       "      <td>136</td>\n",
       "      <td>3.19</td>\n",
       "      <td>3.40</td>\n",
       "      <td>8.0</td>\n",
       "      <td>115</td>\n",
       "      <td>5500</td>\n",
       "      <td>18</td>\n",
       "      <td>22</td>\n",
       "      <td>17450</td>\n",
       "    </tr>\n",
       "  </tbody>\n",
       "</table>\n",
       "</div>"
      ],
      "text/plain": [
       "  normalized-losses  wheel-base  length  width  height  curb-weight  \\\n",
       "0               NaN        88.6   168.8   64.1    48.8         2548   \n",
       "1               NaN        88.6   168.8   64.1    48.8         2548   \n",
       "2               NaN        94.5   171.2   65.5    52.4         2823   \n",
       "3               164        99.8   176.6   66.2    54.3         2337   \n",
       "4               164        99.4   176.6   66.4    54.3         2824   \n",
       "\n",
       "   engine-size  bore stroke  compression-rate horsepower peak-rpm  city-mpg  \\\n",
       "0          130  3.47   2.68               9.0        111     5000        21   \n",
       "1          130  3.47   2.68               9.0        111     5000        21   \n",
       "2          152  2.68   3.47               9.0        154     5000        19   \n",
       "3          109  3.19   3.40              10.0        102     5500        24   \n",
       "4          136  3.19   3.40               8.0        115     5500        18   \n",
       "\n",
       "   highway-mpg  price  \n",
       "0           27  13495  \n",
       "1           27  16500  \n",
       "2           26  16500  \n",
       "3           30  13950  \n",
       "4           22  17450  "
      ]
     },
     "execution_count": 319,
     "metadata": {},
     "output_type": "execute_result"
    }
   ],
   "source": [
    "cars_df = cars_df.replace('?',np.nan)\n",
    "cars_df.head()"
   ]
  },
  {
   "cell_type": "code",
   "execution_count": 320,
   "metadata": {},
   "outputs": [
    {
     "name": "stdout",
     "output_type": "stream",
     "text": [
      "<class 'pandas.core.frame.DataFrame'>\n",
      "RangeIndex: 205 entries, 0 to 204\n",
      "Data columns (total 15 columns):\n",
      " #   Column             Non-Null Count  Dtype  \n",
      "---  ------             --------------  -----  \n",
      " 0   normalized-losses  164 non-null    object \n",
      " 1   wheel-base         205 non-null    float64\n",
      " 2   length             205 non-null    float64\n",
      " 3   width              205 non-null    float64\n",
      " 4   height             205 non-null    float64\n",
      " 5   curb-weight        205 non-null    int64  \n",
      " 6   engine-size        205 non-null    int64  \n",
      " 7   bore               201 non-null    object \n",
      " 8   stroke             201 non-null    object \n",
      " 9   compression-rate   205 non-null    float64\n",
      " 10  horsepower         203 non-null    object \n",
      " 11  peak-rpm           203 non-null    object \n",
      " 12  city-mpg           205 non-null    int64  \n",
      " 13  highway-mpg        205 non-null    int64  \n",
      " 14  price              201 non-null    object \n",
      "dtypes: float64(5), int64(4), object(6)\n",
      "memory usage: 24.1+ KB\n"
     ]
    }
   ],
   "source": [
    "cars_df.info()"
   ]
  },
  {
   "cell_type": "markdown",
   "metadata": {},
   "source": [
    "There are normalized-losses, bore, stroke, hoursepower, peak-rpm and price that have to be converted to either integer or float. Since we do not want to round up the values of bore and stroke and to make it short and easy, we will converted all the column types to float."
   ]
  },
  {
   "cell_type": "code",
   "execution_count": 321,
   "metadata": {},
   "outputs": [
    {
     "name": "stdout",
     "output_type": "stream",
     "text": [
      "<class 'pandas.core.frame.DataFrame'>\n",
      "RangeIndex: 205 entries, 0 to 204\n",
      "Data columns (total 15 columns):\n",
      " #   Column             Non-Null Count  Dtype  \n",
      "---  ------             --------------  -----  \n",
      " 0   normalized-losses  164 non-null    float64\n",
      " 1   wheel-base         205 non-null    float64\n",
      " 2   length             205 non-null    float64\n",
      " 3   width              205 non-null    float64\n",
      " 4   height             205 non-null    float64\n",
      " 5   curb-weight        205 non-null    float64\n",
      " 6   engine-size        205 non-null    float64\n",
      " 7   bore               201 non-null    float64\n",
      " 8   stroke             201 non-null    float64\n",
      " 9   compression-rate   205 non-null    float64\n",
      " 10  horsepower         203 non-null    float64\n",
      " 11  peak-rpm           203 non-null    float64\n",
      " 12  city-mpg           205 non-null    float64\n",
      " 13  highway-mpg        205 non-null    float64\n",
      " 14  price              201 non-null    float64\n",
      "dtypes: float64(15)\n",
      "memory usage: 24.1 KB\n"
     ]
    }
   ],
   "source": [
    "# convert the dtype of all the columns\n",
    "cars_df = cars_df.astype(float)\n",
    "cars_df.info()"
   ]
  },
  {
   "cell_type": "code",
   "execution_count": 322,
   "metadata": {},
   "outputs": [
    {
     "data": {
      "text/plain": [
       "normalized-losses    41\n",
       "wheel-base            0\n",
       "length                0\n",
       "width                 0\n",
       "height                0\n",
       "curb-weight           0\n",
       "engine-size           0\n",
       "bore                  4\n",
       "stroke                4\n",
       "compression-rate      0\n",
       "horsepower            2\n",
       "peak-rpm              2\n",
       "city-mpg              0\n",
       "highway-mpg           0\n",
       "price                 4\n",
       "dtype: int64"
      ]
     },
     "execution_count": 322,
     "metadata": {},
     "output_type": "execute_result"
    }
   ],
   "source": [
    "# check null values\n",
    "cars_df.isnull().sum()"
   ]
  },
  {
   "cell_type": "markdown",
   "metadata": {},
   "source": [
    "There are 4 rows of price column that are null. Since we would like to predict the price, we will remove these 4 rows."
   ]
  },
  {
   "cell_type": "code",
   "execution_count": 323,
   "metadata": {},
   "outputs": [
    {
     "data": {
      "text/plain": [
       "normalized-losses    37\n",
       "wheel-base            0\n",
       "length                0\n",
       "width                 0\n",
       "height                0\n",
       "curb-weight           0\n",
       "engine-size           0\n",
       "bore                  4\n",
       "stroke                4\n",
       "compression-rate      0\n",
       "horsepower            2\n",
       "peak-rpm              2\n",
       "city-mpg              0\n",
       "highway-mpg           0\n",
       "price                 0\n",
       "dtype: int64"
      ]
     },
     "execution_count": 323,
     "metadata": {},
     "output_type": "execute_result"
    }
   ],
   "source": [
    "cars_df = cars_df.dropna(subset=['price'])\n",
    "cars_df.isnull().sum()"
   ]
  },
  {
   "cell_type": "markdown",
   "metadata": {},
   "source": [
    "For the other null values in the other columns, we will replace them with mean values of each column."
   ]
  },
  {
   "cell_type": "code",
   "execution_count": 324,
   "metadata": {},
   "outputs": [
    {
     "data": {
      "text/plain": [
       "normalized-losses    0\n",
       "wheel-base           0\n",
       "length               0\n",
       "width                0\n",
       "height               0\n",
       "curb-weight          0\n",
       "engine-size          0\n",
       "bore                 0\n",
       "stroke               0\n",
       "compression-rate     0\n",
       "horsepower           0\n",
       "peak-rpm             0\n",
       "city-mpg             0\n",
       "highway-mpg          0\n",
       "price                0\n",
       "dtype: int64"
      ]
     },
     "execution_count": 324,
     "metadata": {},
     "output_type": "execute_result"
    }
   ],
   "source": [
    "cars_df = cars_df.fillna(cars_df.mean())\n",
    "cars_df.isnull().sum() #check if there is any null value left."
   ]
  },
  {
   "cell_type": "markdown",
   "metadata": {},
   "source": [
    "Next, we will normalize all the column, except the price column (the column that we want to predict or a target column). The values of the other columns or feature columns will range from 0 - 1."
   ]
  },
  {
   "cell_type": "code",
   "execution_count": 325,
   "metadata": {},
   "outputs": [
    {
     "data": {
      "text/html": [
       "<div>\n",
       "<style scoped>\n",
       "    .dataframe tbody tr th:only-of-type {\n",
       "        vertical-align: middle;\n",
       "    }\n",
       "\n",
       "    .dataframe tbody tr th {\n",
       "        vertical-align: top;\n",
       "    }\n",
       "\n",
       "    .dataframe thead th {\n",
       "        text-align: right;\n",
       "    }\n",
       "</style>\n",
       "<table border=\"1\" class=\"dataframe\">\n",
       "  <thead>\n",
       "    <tr style=\"text-align: right;\">\n",
       "      <th></th>\n",
       "      <th>normalized-losses</th>\n",
       "      <th>wheel-base</th>\n",
       "      <th>length</th>\n",
       "      <th>width</th>\n",
       "      <th>height</th>\n",
       "      <th>curb-weight</th>\n",
       "      <th>engine-size</th>\n",
       "      <th>bore</th>\n",
       "      <th>stroke</th>\n",
       "      <th>compression-rate</th>\n",
       "      <th>horsepower</th>\n",
       "      <th>peak-rpm</th>\n",
       "      <th>city-mpg</th>\n",
       "      <th>highway-mpg</th>\n",
       "      <th>price</th>\n",
       "    </tr>\n",
       "  </thead>\n",
       "  <tbody>\n",
       "    <tr>\n",
       "      <th>0</th>\n",
       "      <td>0.298429</td>\n",
       "      <td>0.058309</td>\n",
       "      <td>0.413433</td>\n",
       "      <td>0.324786</td>\n",
       "      <td>0.083333</td>\n",
       "      <td>0.411171</td>\n",
       "      <td>0.260377</td>\n",
       "      <td>0.664286</td>\n",
       "      <td>0.290476</td>\n",
       "      <td>0.1250</td>\n",
       "      <td>0.294393</td>\n",
       "      <td>0.346939</td>\n",
       "      <td>0.222222</td>\n",
       "      <td>0.289474</td>\n",
       "      <td>13495.0</td>\n",
       "    </tr>\n",
       "    <tr>\n",
       "      <th>1</th>\n",
       "      <td>0.298429</td>\n",
       "      <td>0.058309</td>\n",
       "      <td>0.413433</td>\n",
       "      <td>0.324786</td>\n",
       "      <td>0.083333</td>\n",
       "      <td>0.411171</td>\n",
       "      <td>0.260377</td>\n",
       "      <td>0.664286</td>\n",
       "      <td>0.290476</td>\n",
       "      <td>0.1250</td>\n",
       "      <td>0.294393</td>\n",
       "      <td>0.346939</td>\n",
       "      <td>0.222222</td>\n",
       "      <td>0.289474</td>\n",
       "      <td>16500.0</td>\n",
       "    </tr>\n",
       "    <tr>\n",
       "      <th>2</th>\n",
       "      <td>0.298429</td>\n",
       "      <td>0.230321</td>\n",
       "      <td>0.449254</td>\n",
       "      <td>0.444444</td>\n",
       "      <td>0.383333</td>\n",
       "      <td>0.517843</td>\n",
       "      <td>0.343396</td>\n",
       "      <td>0.100000</td>\n",
       "      <td>0.666667</td>\n",
       "      <td>0.1250</td>\n",
       "      <td>0.495327</td>\n",
       "      <td>0.346939</td>\n",
       "      <td>0.166667</td>\n",
       "      <td>0.263158</td>\n",
       "      <td>16500.0</td>\n",
       "    </tr>\n",
       "    <tr>\n",
       "      <th>3</th>\n",
       "      <td>0.518325</td>\n",
       "      <td>0.384840</td>\n",
       "      <td>0.529851</td>\n",
       "      <td>0.504274</td>\n",
       "      <td>0.541667</td>\n",
       "      <td>0.329325</td>\n",
       "      <td>0.181132</td>\n",
       "      <td>0.464286</td>\n",
       "      <td>0.633333</td>\n",
       "      <td>0.1875</td>\n",
       "      <td>0.252336</td>\n",
       "      <td>0.551020</td>\n",
       "      <td>0.305556</td>\n",
       "      <td>0.368421</td>\n",
       "      <td>13950.0</td>\n",
       "    </tr>\n",
       "    <tr>\n",
       "      <th>4</th>\n",
       "      <td>0.518325</td>\n",
       "      <td>0.373178</td>\n",
       "      <td>0.529851</td>\n",
       "      <td>0.521368</td>\n",
       "      <td>0.541667</td>\n",
       "      <td>0.518231</td>\n",
       "      <td>0.283019</td>\n",
       "      <td>0.464286</td>\n",
       "      <td>0.633333</td>\n",
       "      <td>0.0625</td>\n",
       "      <td>0.313084</td>\n",
       "      <td>0.551020</td>\n",
       "      <td>0.138889</td>\n",
       "      <td>0.157895</td>\n",
       "      <td>17450.0</td>\n",
       "    </tr>\n",
       "  </tbody>\n",
       "</table>\n",
       "</div>"
      ],
      "text/plain": [
       "   normalized-losses  wheel-base    length     width    height  curb-weight  \\\n",
       "0           0.298429    0.058309  0.413433  0.324786  0.083333     0.411171   \n",
       "1           0.298429    0.058309  0.413433  0.324786  0.083333     0.411171   \n",
       "2           0.298429    0.230321  0.449254  0.444444  0.383333     0.517843   \n",
       "3           0.518325    0.384840  0.529851  0.504274  0.541667     0.329325   \n",
       "4           0.518325    0.373178  0.529851  0.521368  0.541667     0.518231   \n",
       "\n",
       "   engine-size      bore    stroke  compression-rate  horsepower  peak-rpm  \\\n",
       "0     0.260377  0.664286  0.290476            0.1250    0.294393  0.346939   \n",
       "1     0.260377  0.664286  0.290476            0.1250    0.294393  0.346939   \n",
       "2     0.343396  0.100000  0.666667            0.1250    0.495327  0.346939   \n",
       "3     0.181132  0.464286  0.633333            0.1875    0.252336  0.551020   \n",
       "4     0.283019  0.464286  0.633333            0.0625    0.313084  0.551020   \n",
       "\n",
       "   city-mpg  highway-mpg    price  \n",
       "0  0.222222     0.289474  13495.0  \n",
       "1  0.222222     0.289474  16500.0  \n",
       "2  0.166667     0.263158  16500.0  \n",
       "3  0.305556     0.368421  13950.0  \n",
       "4  0.138889     0.157895  17450.0  "
      ]
     },
     "execution_count": 325,
     "metadata": {},
     "output_type": "execute_result"
    }
   ],
   "source": [
    "price = cars_df['price']\n",
    "normalized_cars = (cars_df - cars_df.min())/(cars_df.max() - cars_df.min())\n",
    "normalized_cars['price'] = price\n",
    "normalized_cars.head()"
   ]
  },
  {
   "cell_type": "markdown",
   "metadata": {},
   "source": [
    "## Splitting Data Method 1: Shuffle the Data Before Splitting"
   ]
  },
  {
   "cell_type": "markdown",
   "metadata": {},
   "source": [
    "### Univariate Model"
   ]
  },
  {
   "cell_type": "code",
   "execution_count": 326,
   "metadata": {},
   "outputs": [],
   "source": [
    "from sklearn.neighbors import KNeighborsRegressor\n",
    "from sklearn.metrics import mean_squared_error\n",
    "\n",
    "def knn_train_test(training_col, target_col, df):\n",
    "    model = KNeighborsRegressor()\n",
    "    np.random.seed(1)\n",
    "    \n",
    "    # Randomize indexes\n",
    "    shuffled_ind = np.random.permutation(df.index)\n",
    "    random_df = df.reindex(shuffled_ind)\n",
    "    \n",
    "    # Find the index that will be used to divide the training and test sets\n",
    "    transition_index = len(random_df)//2\n",
    "    \n",
    "    # Define training and test sets\n",
    "    train = random_df.iloc[0:transition_index]\n",
    "    test = random_df.iloc[transition_index:]\n",
    "    \n",
    "    # Fit the model\n",
    "    model.fit(train[[training_col]], train[target_col])\n",
    "    \n",
    "    # Predict the prices\n",
    "    predicted_prices = model.predict(test[[training_col]])\n",
    "    \n",
    "    # Validate the result by calculating RMSE\n",
    "    mse = mean_squared_error(test[target_col], predicted_prices)\n",
    "    return np.sqrt(mse)"
   ]
  },
  {
   "cell_type": "code",
   "execution_count": 328,
   "metadata": {},
   "outputs": [
    {
     "data": {
      "text/plain": [
       "engine-size          3238.462830\n",
       "horsepower           4037.037713\n",
       "curb-weight          4401.118255\n",
       "highway-mpg          4630.026799\n",
       "width                4704.482590\n",
       "city-mpg             4766.422505\n",
       "length               5427.200961\n",
       "wheel-base           5461.553998\n",
       "compression-rate     6610.812153\n",
       "bore                 6780.627785\n",
       "normalized-losses    7330.197653\n",
       "peak-rpm             7697.459696\n",
       "stroke               8006.529545\n",
       "height               8144.441043\n",
       "dtype: float64"
      ]
     },
     "execution_count": 328,
     "metadata": {},
     "output_type": "execute_result"
    }
   ],
   "source": [
    "training_col = normalized_cars.columns.drop('price')\n",
    "features_rmses = {}\n",
    "\n",
    "for c in training_col:\n",
    "    features_rmses[c] = knn_train_test(c, 'price', normalized_cars)\n",
    "\n",
    "features_rmse_series = pd.Series(features_rmses)\n",
    "features_rmse_series.sort_values()"
   ]
  },
  {
   "cell_type": "markdown",
   "metadata": {},
   "source": [
    "The smaller RMSEs of individual columns shown above suggest that these columns are better features for our feature model.\n",
    "\n",
    "Previously, we fixed k value to the default value which is 5. Next, we will try to vary k values."
   ]
  },
  {
   "cell_type": "code",
   "execution_count": 329,
   "metadata": {},
   "outputs": [],
   "source": [
    "# Update the knn_train_test function to take different k values\n",
    "def knn_train_test(training_col, target_col, df):\n",
    "    np.random.seed(1)\n",
    "    \n",
    "    # Randomize indexes\n",
    "    shuffled_ind = np.random.permutation(df.index)\n",
    "    random_df = df.reindex(shuffled_ind)\n",
    "    \n",
    "    # Find the index that will be used to divide the training and test sets\n",
    "    transition_index = len(random_df)//2\n",
    "    \n",
    "    # Define training and test sets\n",
    "    train = random_df.iloc[0:transition_index]\n",
    "    test = random_df.iloc[transition_index:]\n",
    "    \n",
    "    k_values = [1,3,5,7,9]\n",
    "    k_rmses = {}\n",
    "    \n",
    "    for k in k_values:\n",
    "        \n",
    "        # Instantiate the model\n",
    "        model = KNeighborsRegressor(n_neighbors=k)\n",
    "\n",
    "        # Fit the model\n",
    "        model.fit(train[[training_col]], train[target_col])\n",
    "\n",
    "        # Predict the prices\n",
    "        predicted_prices = model.predict(test[[training_col]])\n",
    "\n",
    "        # Validate the result by calculating RMSE and put the value in the created dictionary\n",
    "        mse = mean_squared_error(test[target_col], predicted_prices)\n",
    "        k_rmses[k] = np.sqrt(mse)\n",
    "        \n",
    "    return k_rmses"
   ]
  },
  {
   "cell_type": "code",
   "execution_count": 330,
   "metadata": {},
   "outputs": [
    {
     "data": {
      "text/plain": [
       "{'normalized-losses': {1: 7846.750605148984,\n",
       "  3: 7500.5698123109905,\n",
       "  5: 7330.197653434445,\n",
       "  7: 7756.421586234123,\n",
       "  9: 7688.096096891432},\n",
       " 'wheel-base': {1: 4493.734068810494,\n",
       "  3: 5120.161506064513,\n",
       "  5: 5461.553997873057,\n",
       "  7: 5448.1070513823315,\n",
       "  9: 5738.405685192312},\n",
       " 'length': {1: 4628.45550121557,\n",
       "  3: 5129.8358210721635,\n",
       "  5: 5427.2009608367125,\n",
       "  7: 5313.427720847974,\n",
       "  9: 5383.054514833446},\n",
       " 'width': {1: 4559.257297950061,\n",
       "  3: 4606.413692169901,\n",
       "  5: 4704.482589704386,\n",
       "  7: 4571.485046194653,\n",
       "  9: 4652.914172067787},\n",
       " 'height': {1: 8904.04645636071,\n",
       "  3: 8277.609643045525,\n",
       "  5: 8144.441042663747,\n",
       "  7: 7679.598124393773,\n",
       "  9: 7811.03606291223},\n",
       " 'curb-weight': {1: 5264.290230758878,\n",
       "  3: 5022.318011757233,\n",
       "  5: 4401.118254793124,\n",
       "  7: 4330.608104418053,\n",
       "  9: 4632.044474454401},\n",
       " 'engine-size': {1: 3258.4861059962027,\n",
       "  3: 2840.562805643501,\n",
       "  5: 3238.4628296477176,\n",
       "  7: 3563.086774256415,\n",
       "  9: 3831.8244149840766},\n",
       " 'bore': {1: 8602.58848450066,\n",
       "  3: 6984.239489480916,\n",
       "  5: 6780.627784685976,\n",
       "  7: 6878.097965921532,\n",
       "  9: 6866.808502038413},\n",
       " 'stroke': {1: 9116.495955406906,\n",
       "  3: 7338.68466990294,\n",
       "  5: 8006.529544647101,\n",
       "  7: 7803.937796804327,\n",
       "  9: 7735.554366079291},\n",
       " 'compression-rate': {1: 8087.205346523092,\n",
       "  3: 7375.063685578359,\n",
       "  5: 6610.812153159129,\n",
       "  7: 6732.801282941515,\n",
       "  9: 7024.485525463435},\n",
       " 'horsepower': {1: 4170.054848037801,\n",
       "  3: 4020.8492630885394,\n",
       "  5: 4037.0377131537603,\n",
       "  7: 4353.811860277134,\n",
       "  9: 4515.135617419103},\n",
       " 'peak-rpm': {1: 9511.480067750124,\n",
       "  3: 8537.550899973421,\n",
       "  5: 7697.4596964334805,\n",
       "  7: 7510.294160083481,\n",
       "  9: 7340.041341263401},\n",
       " 'city-mpg': {1: 5901.143574354764,\n",
       "  3: 4646.746408727155,\n",
       "  5: 4766.422505090134,\n",
       "  7: 5232.523034167316,\n",
       "  9: 5465.209492527533},\n",
       " 'highway-mpg': {1: 6025.594966720739,\n",
       "  3: 4617.305019788554,\n",
       "  5: 4630.026798588056,\n",
       "  7: 4796.061440186946,\n",
       "  9: 5278.358056953987}}"
      ]
     },
     "execution_count": 330,
     "metadata": {},
     "output_type": "execute_result"
    }
   ],
   "source": [
    "training_col = normalized_cars.columns.drop('price')\n",
    "features_k_rmses = {}\n",
    "\n",
    "for c in training_col:\n",
    "    features_k_rmses[c] = knn_train_test(c, 'price', normalized_cars)\n",
    "\n",
    "features_k_rmses"
   ]
  },
  {
   "cell_type": "code",
   "execution_count": 331,
   "metadata": {},
   "outputs": [
    {
     "data": {
      "image/png": "[encoded data removed]",
      "text/plain": [
       "<Figure size 720x360 with 1 Axes>"
      ]
     },
     "metadata": {
      "needs_background": "light"
     },
     "output_type": "display_data"
    }
   ],
   "source": [
    "# Plot the results\n",
    "import matplotlib.pyplot as plt\n",
    "%matplotlib inline\n",
    "\n",
    "# Extract the value from the rmse dictionary\n",
    "plt.figure(figsize=(10,5))\n",
    "for col, sub_dict in features_k_rmses.items():\n",
    "    X = list(sub_dict.keys())\n",
    "    Y = list(sub_dict.values())\n",
    "    plt.scatter(X, Y)\n",
    "    plt.legend(training_col, bbox_to_anchor=(1.25, 1), loc='upper right', ncol=1)\n",
    "\n",
    "plt.xlabel('k values')\n",
    "plt.ylabel('RMSE')\n",
    "plt.show()"
   ]
  },
  {
   "cell_type": "markdown",
   "metadata": {},
   "source": [
    "Overall, engine-size and horse power seem to be the best two features for our model. Next, we will combine the features creating more models."
   ]
  },
  {
   "cell_type": "markdown",
   "metadata": {},
   "source": [
    "### Multivariate Model"
   ]
  },
  {
   "cell_type": "markdown",
   "metadata": {},
   "source": [
    "Rank the features from best to worst based on their RMSEs. In this case, we will first set k as a default (n_neighbors = 5)."
   ]
  },
  {
   "cell_type": "code",
   "execution_count": 332,
   "metadata": {},
   "outputs": [
    {
     "data": {
      "text/plain": [
       "engine-size          3346.484586\n",
       "horsepower           4219.377860\n",
       "width                4618.910560\n",
       "curb-weight          4730.075815\n",
       "highway-mpg          5069.469256\n",
       "length               5176.394904\n",
       "city-mpg             5202.409003\n",
       "wheel-base           5252.392462\n",
       "compression-rate     7166.073599\n",
       "bore                 7222.472445\n",
       "normalized-losses    7624.407151\n",
       "stroke               8000.240467\n",
       "peak-rpm             8119.365233\n",
       "height               8163.346266\n",
       "dtype: float64"
      ]
     },
     "execution_count": 332,
     "metadata": {},
     "output_type": "execute_result"
    }
   ],
   "source": [
    "features_avg_rmse = {}\n",
    "\n",
    "for col, sub_dict in features_k_rmses.items():\n",
    "    rmses = list(sub_dict.values())\n",
    "    features_avg_rmse[col] = np.mean(rmses)\n",
    "\n",
    "features_avg_rmse_series = pd.Series(features_avg_rmse)\n",
    "features = features_avg_rmse_series.sort_values()\n",
    "features"
   ]
  },
  {
   "cell_type": "markdown",
   "metadata": {},
   "source": [
    "Then, we will put these features together and form new models."
   ]
  },
  {
   "cell_type": "code",
   "execution_count": 333,
   "metadata": {},
   "outputs": [],
   "source": [
    "# Update the knn_train_test function to build multivariate model (taking multiple features)\n",
    "def knn_train_test(training_cols, target_col, df):\n",
    "    model = KNeighborsRegressor()\n",
    "    np.random.seed(1)\n",
    "    \n",
    "    # Randomize indexes\n",
    "    shuffled_ind = np.random.permutation(df.index)\n",
    "    random_df = df.reindex(shuffled_ind)\n",
    "    \n",
    "    # Find the index that will be used to divide the training and test sets\n",
    "    transition_index = len(random_df)//2\n",
    "    \n",
    "    # Define training and test sets\n",
    "    train = random_df.iloc[0:transition_index]\n",
    "    test = random_df.iloc[transition_index:]\n",
    "    \n",
    "    # Fit the model\n",
    "    model.fit(train[training_cols], train[target_col])\n",
    "    \n",
    "    # Predict the prices\n",
    "    predicted_prices = model.predict(test[training_cols])\n",
    "    \n",
    "    # Validate the result by calculating RMSE\n",
    "    mse = mean_squared_error(test[target_col], predicted_prices)\n",
    "    return np.sqrt(mse)"
   ]
  },
  {
   "cell_type": "code",
   "execution_count": 334,
   "metadata": {},
   "outputs": [
    {
     "data": {
      "text/plain": [
       "{2: 2949.8817277180374,\n",
       " 3: 3580.7376651928435,\n",
       " 4: 3487.340917327035,\n",
       " 5: 3410.2170133901805,\n",
       " 6: 3478.510890118539}"
      ]
     },
     "execution_count": 334,
     "metadata": {},
     "output_type": "execute_result"
    }
   ],
   "source": [
    "feature_combinations_rmse = {}\n",
    "\n",
    "for i in range(2,7):\n",
    "    feature_cols = features.index\n",
    "    training_cols = feature_cols[:i]\n",
    "    feature_combinations_rmse[i] = knn_train_test(training_cols, 'price', normalized_cars)\n",
    "\n",
    "feature_combinations_rmse"
   ]
  },
  {
   "cell_type": "markdown",
   "metadata": {},
   "source": [
    "- Note that the numbers of feature combinations shown above mean ...\n",
    "    - 2: top two features combined together -- ['engine-size', 'horsepower'] called model 1\n",
    "    - 3: top three features combined together -- ['engine-size', 'horsepower', 'width'] called model 2\n",
    "    - 4: top four features combined together -- ['engine-size', 'horsepower', 'width', 'curb-weight'] called model 3\n",
    "    - 5: top five features combined together -- ['engine-size', 'horsepower', 'width', 'curb-weight', 'highway-mpg'] called model 4\n",
    "- The combination of 2 best features (engine-size and horsepower) gives us the lowest RMSE.\n",
    "\n",
    "Next, let's try to change k values! We will set k to be in a range of 1 - 25."
   ]
  },
  {
   "cell_type": "markdown",
   "metadata": {},
   "source": [
    "### Hyperparameter Tuning\n"
   ]
  },
  {
   "cell_type": "code",
   "execution_count": 335,
   "metadata": {},
   "outputs": [],
   "source": [
    "def knn_train_test(training_cols, target_col, df):\n",
    "    np.random.seed(1)\n",
    "    \n",
    "    # Randomize indexes\n",
    "    shuffled_ind = np.random.permutation(df.index)\n",
    "    random_df = df.reindex(shuffled_ind)\n",
    "    \n",
    "    # Find the index that will be used to divide the training and test sets\n",
    "    transition_index = len(random_df)//2\n",
    "    \n",
    "    # Define training and test sets\n",
    "    train = random_df.iloc[0:transition_index]\n",
    "    test = random_df.iloc[transition_index:]\n",
    "    \n",
    "    k_values = np.arange(1,26)\n",
    "    k_rmses = {}\n",
    "    \n",
    "    for k in k_values:\n",
    "        \n",
    "        # Initiate the model\n",
    "        model = KNeighborsRegressor(n_neighbors=k)\n",
    "\n",
    "        # Fit the model\n",
    "        model.fit(train[training_cols], train[target_col])\n",
    "\n",
    "        # Predict the prices\n",
    "        predicted_prices = model.predict(test[training_cols])\n",
    "\n",
    "        # Validate the result by calculating RMSE and put the value in the created dictionary\n",
    "        mse = mean_squared_error(test[target_col], predicted_prices)\n",
    "        k_rmses[k] = np.sqrt(mse)\n",
    "        \n",
    "    return k_rmses"
   ]
  },
  {
   "cell_type": "code",
   "execution_count": 336,
   "metadata": {},
   "outputs": [],
   "source": [
    "f_combinations_k_rmses = {}\n",
    "\n",
    "for i in range(2,7):\n",
    "    feature_cols = features.index\n",
    "    training_cols = feature_cols[:i]\n",
    "    f_combinations_k_rmses[i] = knn_train_test(training_cols, 'price', normalized_cars)"
   ]
  },
  {
   "cell_type": "code",
   "execution_count": 337,
   "metadata": {},
   "outputs": [
    {
     "data": {
      "image/png": "[encoded data removed]",
      "text/plain": [
       "<Figure size 720x360 with 1 Axes>"
      ]
     },
     "metadata": {
      "needs_background": "light"
     },
     "output_type": "display_data"
    }
   ],
   "source": [
    "# Extract the value from the rmse dictionary above\n",
    "plt.figure(figsize=(10,5))\n",
    "for col, sub_dict in f_combinations_k_rmses.items():\n",
    "    X = list(sub_dict.keys())\n",
    "    Y = list(sub_dict.values())\n",
    "    plt.plot(X, Y,label = \"top {} features (model {})\".format(col, col-1))\n",
    "plt.legend(loc='lower right')\n",
    "plt.xlabel('k values')\n",
    "plt.ylabel('RMSE')\n",
    "plt.xticks(np.arange(0, 26, step=1))\n",
    "plt.show()"
   ]
  },
  {
   "cell_type": "markdown",
   "metadata": {},
   "source": [
    "#### Findings:\n",
    "\n",
    "- We found different optimal k values for different models. This is possibly because of the addition of the new features. \n",
    "- Overall, the model 1 with k value = 2 performs best and provides the lowest RMSE."
   ]
  },
  {
   "cell_type": "markdown",
   "metadata": {},
   "source": [
    "## Splitting Data Method 2: K-Fold Cross Validation\n"
   ]
  },
  {
   "cell_type": "markdown",
   "metadata": {},
   "source": [
    "First, let's try setting 2 folds for K-Fold Validation technique, which means splitting the dataset into 2 folds. This is quite similar to what we did previously in Method 1 that we splitted the shuffled data into train and test sets. However, K-Fold validation will not only split the data to 2 folds of train and test sets, but this technique will also switches train and test sets after fitting the model and returning the predicted values, and then recalculate the RMSE. By assigning 2 folds, we will get 2 RMSEs, unlike the previous method (Method 1) that we only get 1 value of RMSE.\n"
   ]
  },
  {
   "cell_type": "code",
   "execution_count": 338,
   "metadata": {},
   "outputs": [],
   "source": [
    "# Update knn_train_test using KFold and implementing cross_val from sklearn \n",
    "from sklearn.model_selection import cross_val_score, KFold\n",
    "\n",
    "def knn_train_test(training_cols, target_col, df):\n",
    "    \n",
    "    # Instantiate the k-fold class\n",
    "    kf = KFold(2, shuffle=True, random_state=1)\n",
    "    \n",
    "    # Assign k values in k-nearest neighbors\n",
    "    k_values = np.arange(1,26)\n",
    "    k_rmses = {}\n",
    "    \n",
    "    for k in k_values:\n",
    "        \n",
    "        # Instantiate the model\n",
    "        model = KNeighborsRegressor(n_neighbors=k)\n",
    "\n",
    "        # Implement cross_val_score\n",
    "        mse = cross_val_score(model, df[training_cols], df[target_col], scoring=\"neg_mean_squared_error\", cv=kf)\n",
    "        k_rmses[k] = np.mean(np.sqrt(np.abs(mse)))\n",
    "        \n",
    "    return k_rmses\n"
   ]
  },
  {
   "cell_type": "code",
   "execution_count": 339,
   "metadata": {},
   "outputs": [],
   "source": [
    "five_kfold_rmses = {}\n",
    "\n",
    "for i in range(2,7):\n",
    "    feature_cols = features.index\n",
    "    training_cols = feature_cols[:i]\n",
    "    five_kfold_rmses[i] = knn_train_test(training_cols, 'price', normalized_cars)\n",
    "    "
   ]
  },
  {
   "cell_type": "code",
   "execution_count": 340,
   "metadata": {},
   "outputs": [
    {
     "data": {
      "image/png": "[encoded data removed]",
      "text/plain": [
       "<Figure size 720x360 with 1 Axes>"
      ]
     },
     "metadata": {
      "needs_background": "light"
     },
     "output_type": "display_data"
    }
   ],
   "source": [
    "plt.figure(figsize=(10,5))\n",
    "for col, sub_dict in five_kfold_rmses.items():\n",
    "    X = list(sub_dict.keys())\n",
    "    x.append(X)\n",
    "    Y = list(sub_dict.values())\n",
    "        \n",
    "    plt.plot(X, Y, label = \"top {} features (model {})\".format(col, col-1))\n",
    "    plt.legend(loc='lower right')\n",
    "\n",
    "plt.xlabel('k values')\n",
    "plt.ylabel('RMSE')\n",
    "plt.xticks(np.arange(0, 26, step=1))\n",
    "plt.show()\n"
   ]
  },
  {
   "cell_type": "markdown",
   "metadata": {},
   "source": [
    "### Findings:\n",
    "\n",
    "- By applying k-fold validation and setting fold number equal to 2, we get different result from the previous one. In this case, the model 5 with k value equal to 2 performs best giving the lowest RMSE.\n",
    "- Overall, this finding suggests that the techniques that we use to split the training and test sets do affect the results, and we should keep that in mind when we set up the model and do the analysis. \n"
   ]
  },
  {
   "cell_type": "markdown",
   "metadata": {},
   "source": [
    "Next, let's change fold numbers in k-fold validation. The goal of doing this is to see how changing the fold numbers will affect the performance of our model. To simplify this method, let's assign the k value to 2 and use model 5 as we observe that this model is the 'best' one so far."
   ]
  },
  {
   "cell_type": "code",
   "execution_count": 359,
   "metadata": {},
   "outputs": [],
   "source": [
    "# Update knn_train_test to vary fold numbers in k-fold validation\n",
    "from sklearn.model_selection import cross_val_score, KFold\n",
    "\n",
    "def knn_train_test(training_cols, target_col, df):\n",
    "    \n",
    "    kf_rmses = {}\n",
    "    for kfd in range(2,21):\n",
    "        # Instantiate the k-fold class\n",
    "        kf = KFold(kfd, shuffle=True, random_state=1)\n",
    "\n",
    "        # Instantiate the model\n",
    "        model = KNeighborsRegressor(n_neighbors=2)\n",
    "\n",
    "        # Implement cross_val_score\n",
    "        mse = cross_val_score(model, df[training_cols], df[target_col], scoring=\"neg_mean_squared_error\", cv=kf)\n",
    "        rmse = np.mean(np.sqrt(np.abs(mse)))\n",
    "        kf_rmses[kfd] = rmse\n",
    "\n",
    "    return kf_rmses\n"
   ]
  },
  {
   "cell_type": "code",
   "execution_count": 360,
   "metadata": {},
   "outputs": [
    {
     "data": {
      "image/png": "[encoded data removed]",
      "text/plain": [
       "<Figure size 720x360 with 1 Axes>"
      ]
     },
     "metadata": {
      "needs_background": "light"
     },
     "output_type": "display_data"
    }
   ],
   "source": [
    "feature_cols = features.index\n",
    "training_cols = feature_cols[:7]\n",
    "model5_rmse = knn_train_test(training_cols, 'price', normalized_cars)\n",
    "fs = []\n",
    "rmses = []\n",
    "for f, rmse in model5_rmse.items():\n",
    "    fs.append(f)\n",
    "    rmses.append(rmse)\n",
    "\n",
    "plt.figure(figsize=(10,5))    \n",
    "plt.plot(fs, rmses)\n",
    "plt.xlabel('fold number')\n",
    "plt.ylabel('RMSE')\n",
    "plt.xticks(np.arange(0, 22, step=1))\n",
    "plt.show()\n"
   ]
  },
  {
   "cell_type": "markdown",
   "metadata": {},
   "source": [
    "### Findings:\n",
    "\n",
    "- We observe that as the fold number increases, the RMSE does not linearly decrease. Thus, dividing the datasets to higher number of folds does not mean you will get lower RMSE.\n",
    "- One more thing to keep in mind that when we divide the dataset to many folds, i.e. above 10 folds, the number of rows in the test set will decrease. The typical number of the data in the test set is around 20 - 25% of the total amount of the dataset. Note that the default fold number in KFold Class in sklearn is 5 folds. However, in this study, we can see that 6 folds seem to be better than 5 folds and if using the fold number above 6 folds, our test set will become too small since we only have 201 rows in our dataset. Thus, to prevent overfitting and too small number of test set 6 folds for KFold method seems to be a good number to use in this case. \n"
   ]
  },
  {
   "cell_type": "markdown",
   "metadata": {},
   "source": [
    "## Summary"
   ]
  },
  {
   "cell_type": "markdown",
   "metadata": {},
   "source": [
    "- The data splitting methods do affect the performance of the models. \n",
    "- For the first method, the model 1 with k value equal to 2 seems to be the 'best' model providing the lowest RMSE.\n",
    "- For the second method, the model 5 with k value equal to 2 and 6-fold validation seems to be a good and reasonable solution providing relatively low RMSE.\n",
    "- Note that in this study we only use RMSE as an assessment of the models. However, only considering lower RMSEs does not always tell us that a model is the best, we have to consider other factor, i.e. bias and overfitting, as well."
   ]
  }
 ],
 "metadata": {
  "kernelspec": {
   "display_name": "Python 3",
   "language": "python",
   "name": "python3"
  },
  "language_info": {
   "codemirror_mode": {
    "name": "ipython",
    "version": 3
   },
   "file_extension": ".py",
   "mimetype": "text/x-python",
   "name": "python",
   "nbconvert_exporter": "python",
   "pygments_lexer": "ipython3",
   "version": "3.7.8"
  }
 },
 "nbformat": 4,
 "nbformat_minor": 2
}
